{
 "cells": [
  {
   "cell_type": "code",
   "execution_count": 9,
   "metadata": {
    "scrolled": false
   },
   "outputs": [
    {
     "name": "stdout",
     "output_type": "stream",
     "text": [
      "orhun\n"
     ]
    }
   ],
   "source": [
    "print('orhun')"
   ]
  },
  {
   "cell_type": "code",
   "execution_count": 32,
   "metadata": {},
   "outputs": [
    {
     "name": "stdout",
     "output_type": "stream",
     "text": [
      "0.1 -> -3.69\n",
      "0.2 -> -3.36\n",
      "0.3 -> -3.01\n",
      "0.4 -> -2.64\n",
      "0.5 -> -2.25\n",
      "0.6 -> -1.84\n",
      "0.7 -> -1.41\n",
      "0.8 -> -0.96\n",
      "0.9 -> -0.49\n",
      "1.0 -> -0.00\n",
      "1.1 -> 0.51\n"
     ]
    }
   ],
   "source": [
    "x = 0.1\n",
    "for i in range(11):\n",
    "    fx = x**2 + 3*x - 4\n",
    "    print(\"%3.1f\" % x,'->', \"%3.2f\" % fx)\n",
    "    x += 0.1"
   ]
  },
  {
   "cell_type": "code",
   "execution_count": null,
   "metadata": {
    "collapsed": true
   },
   "outputs": [],
   "source": []
  }
 ],
 "metadata": {
  "kernelspec": {
   "display_name": "Python 3",
   "language": "python",
   "name": "python3"
  },
  "language_info": {
   "codemirror_mode": {
    "name": "ipython",
    "version": 3
   },
   "file_extension": ".py",
   "mimetype": "text/x-python",
   "name": "python",
   "nbconvert_exporter": "python",
   "pygments_lexer": "ipython3",
   "version": "3.6.1"
  }
 },
 "nbformat": 4,
 "nbformat_minor": 2
}
