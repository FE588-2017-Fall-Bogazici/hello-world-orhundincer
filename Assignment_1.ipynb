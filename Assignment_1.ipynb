{
 "cells": [
  {
   "cell_type": "code",
   "execution_count": 116,
   "metadata": {
    "scrolled": false
   },
   "outputs": [
    {
     "name": "stdout",
     "output_type": "stream",
     "text": [
      "orhun dincer\n"
     ]
    }
   ],
   "source": [
    "print('orhun dincer')"
   ]
  },
  {
   "cell_type": "code",
   "execution_count": 42,
   "metadata": {},
   "outputs": [
    {
     "name": "stdout",
     "output_type": "stream",
     "text": [
      "---------------\n",
      "| 0.1 | -3.69 |\n",
      "---------------\n",
      "| 0.2 | -3.36 |\n",
      "---------------\n",
      "| 0.3 | -3.01 |\n",
      "---------------\n",
      "| 0.4 | -2.64 |\n",
      "---------------\n",
      "| 0.5 | -2.25 |\n",
      "---------------\n",
      "| 0.6 | -1.84 |\n",
      "---------------\n",
      "| 0.7 | -1.41 |\n",
      "---------------\n",
      "| 0.8 | -0.96 |\n",
      "---------------\n",
      "| 0.9 | -0.49 |\n",
      "---------------\n",
      "| 1.0 | -0.00 |\n",
      "---------------\n"
     ]
    }
   ],
   "source": [
    "x = 0.1\n",
    "for i in range(10):\n",
    "    fx=x**2 + 3*x - 4\n",
    "    print('-'*15)\n",
    "    print('|',\"%3.1f\" % x,'|', \"%3.2f\" % fx,'|')\n",
    "    x += 0.1\n",
    "print('-'*15)"
   ]
  },
  {
   "cell_type": "code",
   "execution_count": 64,
   "metadata": {
    "scrolled": false
   },
   "outputs": [
    {
     "name": "stdout",
     "output_type": "stream",
     "text": [
      "1.41421\n"
     ]
    }
   ],
   "source": [
    "left=0\n",
    "right=2\n",
    "for i in range(100):\n",
    "    def f(x):\n",
    "        return x**2-2\n",
    "    mid=(left+right)/2\n",
    "    if f(mid)<=0:\n",
    "        signmid=-1\n",
    "    else:\n",
    "        signmid=1   \n",
    "    if f(left)<=0:\n",
    "        signleft=-1\n",
    "    else:\n",
    "        signleft=1\n",
    "    if signmid==signleft:\n",
    "        left=mid\n",
    "    else:\n",
    "        right=mid    \n",
    "    if right-left<=0.000000000001:\n",
    "        print(\"%3.5f\" % mid)\n",
    "        break"
   ]
  },
  {
   "cell_type": "markdown",
   "metadata": {},
   "source": [
    "##HOMEWORK 1"
   ]
  },
  {
   "cell_type": "code",
   "execution_count": 115,
   "metadata": {},
   "outputs": [
    {
     "name": "stdout",
     "output_type": "stream",
     "text": [
      "1.41421\n"
     ]
    }
   ],
   "source": [
    "y=2 #the number we need to get squareroot of\n",
    "left=0\n",
    "right=y+1\n",
    "for i in range(100):\n",
    "    def f(x):\n",
    "        return x**2-(y)\n",
    "    mid=(left+right)/2\n",
    "    if f(mid)<=0 and f(left)<=0:\n",
    "        left=mid\n",
    "    else:   \n",
    "        right=mid        \n",
    "    if right-left<=0.000000000001:\n",
    "        print(\"%3.5f\" % mid)\n",
    "        break"
   ]
  }
 ],
 "metadata": {
  "kernelspec": {
   "display_name": "Python 3",
   "language": "python",
   "name": "python3"
  },
  "language_info": {
   "codemirror_mode": {
    "name": "ipython",
    "version": 3
   },
   "file_extension": ".py",
   "mimetype": "text/x-python",
   "name": "python",
   "nbconvert_exporter": "python",
   "pygments_lexer": "ipython3",
   "version": "3.6.1"
  }
 },
 "nbformat": 4,
 "nbformat_minor": 2
}
